{
  "nbformat": 4,
  "nbformat_minor": 0,
  "metadata": {
    "colab": {
      "name": "simple programs.ipynb",
      "provenance": [],
      "include_colab_link": true
    },
    "kernelspec": {
      "name": "python3",
      "display_name": "Python 3"
    },
    "language_info": {
      "name": "python"
    }
  },
  "cells": [
    {
      "cell_type": "markdown",
      "metadata": {
        "id": "view-in-github",
        "colab_type": "text"
      },
      "source": [
        "<a href=\"https://colab.research.google.com/github/Akulaleelavathi/Akulaleelavathi/blob/main/simple_programs.ipynb\" target=\"_parent\"><img src=\"https://colab.research.google.com/assets/colab-badge.svg\" alt=\"Open In Colab\"/></a>"
      ]
    },
    {
      "cell_type": "code",
      "metadata": {
        "id": "wW3ASVqq2IVy"
      },
      "source": [
        ""
      ],
      "execution_count": null,
      "outputs": []
    },
    {
      "cell_type": "markdown",
      "metadata": {
        "id": "o172xi722ru9"
      },
      "source": [
        "# **MY FIRST NOTEBOOK**"
      ]
    },
    {
      "cell_type": "code",
      "metadata": {
        "colab": {
          "base_uri": "https://localhost:8080/"
        },
        "id": "yQ0S5vSh4EIR",
        "outputId": "8de7b5c4-1906-4704-ade8-b470d49bdc8a"
      },
      "source": [
        "a=20\n",
        "b=40\n",
        "print(a+b)"
      ],
      "execution_count": null,
      "outputs": [
        {
          "output_type": "stream",
          "text": [
            "60\n"
          ],
          "name": "stdout"
        }
      ]
    },
    {
      "cell_type": "markdown",
      "metadata": {
        "id": "vC-BMn9D3s-n"
      },
      "source": [
        ""
      ]
    },
    {
      "cell_type": "code",
      "metadata": {
        "colab": {
          "base_uri": "https://localhost:8080/"
        },
        "id": "A8oMATJL4sVX",
        "outputId": "ed663a6e-b4d0-4d53-c663-b8fc9fb05f0e"
      },
      "source": [
        "a=int(input())\n",
        "b=int(input())\n",
        "print(a+b)"
      ],
      "execution_count": null,
      "outputs": [
        {
          "output_type": "stream",
          "text": [
            "78\n",
            "89\n",
            "167\n"
          ],
          "name": "stdout"
        }
      ]
    },
    {
      "cell_type": "code",
      "metadata": {
        "colab": {
          "base_uri": "https://localhost:8080/"
        },
        "id": "OjK013dc5INK",
        "outputId": "f77ce099-1c51-494d-e147-72a804abeda7"
      },
      "source": [
        "n=int(input())\n",
        "if(n%2==0):\n",
        " print(\"The number is even\",n)\n",
        "else:\n",
        " print(\"The numer is odd\",n)\n"
      ],
      "execution_count": null,
      "outputs": [
        {
          "output_type": "stream",
          "text": [
            "45\n",
            "The numer is odd 45\n"
          ],
          "name": "stdout"
        }
      ]
    },
    {
      "cell_type": "code",
      "metadata": {
        "colab": {
          "base_uri": "https://localhost:8080/"
        },
        "id": "faOROiFi9mb1",
        "outputId": "4476b18e-912c-40bf-e0e8-cef996f3f942"
      },
      "source": [
        "n=int(input())\n",
        "if(n>0):\n",
        "  print(\"the number is postive\",n)\n",
        "else:\n",
        "  print(\"the number is negitive\",n)\n"
      ],
      "execution_count": null,
      "outputs": [
        {
          "output_type": "stream",
          "text": [
            "-87\n",
            "the number is negitive -87\n"
          ],
          "name": "stdout"
        }
      ]
    },
    {
      "cell_type": "code",
      "metadata": {
        "colab": {
          "base_uri": "https://localhost:8080/"
        },
        "id": "WFlEITvZ-Ud5",
        "outputId": "00b03d23-1189-4ec0-b190-2fa0405b1a35"
      },
      "source": [
        "a=int(input())\n",
        "b=int(input())\n",
        "c=int(input())\n",
        "if(a>b and a>c):\n",
        "  print(\"greater number is a\")\n",
        "elif(b>c):\n",
        "  print(\"greater numberis b\")\n",
        "else:\n",
        "  print(\"greater number is c\")"
      ],
      "execution_count": null,
      "outputs": [
        {
          "output_type": "stream",
          "text": [
            "78\n",
            "56\n",
            "98\n",
            "greater number is c\n"
          ],
          "name": "stdout"
        }
      ]
    },
    {
      "cell_type": "code",
      "metadata": {
        "id": "eZ3U9kjU-iYf"
      },
      "source": [
        ""
      ],
      "execution_count": null,
      "outputs": []
    },
    {
      "cell_type": "code",
      "metadata": {
        "colab": {
          "base_uri": "https://localhost:8080/"
        },
        "id": "3jDjtgN-_oe0",
        "outputId": "88e3720b-87b4-4f14-edee-fbdecc09cff3"
      },
      "source": [
        "n=int(input())\n",
        "if(n/3 ==1):\n",
        "  print(\"the number will divisable by itself\")\n",
        "else:\n",
        "   print(\"the number will not divisable by itself\")"
      ],
      "execution_count": null,
      "outputs": [
        {
          "output_type": "stream",
          "text": [
            "3\n",
            "the number will divisable by itself\n"
          ],
          "name": "stdout"
        }
      ]
    }
  ]
}